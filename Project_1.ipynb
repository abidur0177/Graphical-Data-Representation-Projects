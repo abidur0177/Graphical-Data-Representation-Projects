{
 "cells": [
  {
   "cell_type": "code",
   "execution_count": 1,
   "metadata": {},
   "outputs": [],
   "source": [
    "import pandas as pd\n",
    "import numpy as np\n",
    "import seaborn as sns\n",
    "import matplotlib.pyplot as plt\n",
    "%matplotlib inline"
   ]
  },
  {
   "cell_type": "code",
   "execution_count": 2,
   "metadata": {},
   "outputs": [
    {
     "data": {
      "text/html": [
       "<div>\n",
       "<style scoped>\n",
       "    .dataframe tbody tr th:only-of-type {\n",
       "        vertical-align: middle;\n",
       "    }\n",
       "\n",
       "    .dataframe tbody tr th {\n",
       "        vertical-align: top;\n",
       "    }\n",
       "\n",
       "    .dataframe thead th {\n",
       "        text-align: right;\n",
       "    }\n",
       "</style>\n",
       "<table border=\"1\" class=\"dataframe\">\n",
       "  <thead>\n",
       "    <tr style=\"text-align: right;\">\n",
       "      <th></th>\n",
       "      <th>Time EST</th>\n",
       "      <th>Counts Total EST</th>\n",
       "      <th>Counts EST</th>\n",
       "      <th>Counts EST.1</th>\n",
       "      <th>Num Articles EST</th>\n",
       "    </tr>\n",
       "  </thead>\n",
       "  <tbody>\n",
       "    <tr>\n",
       "      <th>0</th>\n",
       "      <td>2011-12-31; 18:00-20:00</td>\n",
       "      <td>8</td>\n",
       "      <td>1</td>\n",
       "      <td>0</td>\n",
       "      <td>11</td>\n",
       "    </tr>\n",
       "    <tr>\n",
       "      <th>1</th>\n",
       "      <td>2011-12-31; 20:00-22:00</td>\n",
       "      <td>345</td>\n",
       "      <td>17</td>\n",
       "      <td>1</td>\n",
       "      <td>16</td>\n",
       "    </tr>\n",
       "    <tr>\n",
       "      <th>2</th>\n",
       "      <td>2011-12-31; 22:00-00:00</td>\n",
       "      <td>83</td>\n",
       "      <td>10</td>\n",
       "      <td>0</td>\n",
       "      <td>9</td>\n",
       "    </tr>\n",
       "    <tr>\n",
       "      <th>3</th>\n",
       "      <td>2012-01-01; 00:00-02:00</td>\n",
       "      <td>42</td>\n",
       "      <td>6</td>\n",
       "      <td>0</td>\n",
       "      <td>18</td>\n",
       "    </tr>\n",
       "    <tr>\n",
       "      <th>4</th>\n",
       "      <td>2012-01-01; 02:00-04:00</td>\n",
       "      <td>0</td>\n",
       "      <td>0</td>\n",
       "      <td>0</td>\n",
       "      <td>2</td>\n",
       "    </tr>\n",
       "  </tbody>\n",
       "</table>\n",
       "</div>"
      ],
      "text/plain": [
       "                  Time EST  Counts Total EST  Counts EST  Counts EST.1  \\\n",
       "0  2011-12-31; 18:00-20:00                 8           1             0   \n",
       "1  2011-12-31; 20:00-22:00               345          17             1   \n",
       "2  2011-12-31; 22:00-00:00                83          10             0   \n",
       "3  2012-01-01; 00:00-02:00                42           6             0   \n",
       "4  2012-01-01; 02:00-04:00                 0           0             0   \n",
       "\n",
       "   Num Articles EST  \n",
       "0                11  \n",
       "1                16  \n",
       "2                 9  \n",
       "3                18  \n",
       "4                 2  "
      ]
     },
     "execution_count": 2,
     "metadata": {},
     "output_type": "execute_result"
    }
   ],
   "source": [
    "df = pd.read_excel('file.xlsx') #reading the file. I have renamed TRAFFIC_NYT_201.xlsx to file.xlsx\n",
    "df = df.drop(['Unnamed: 0'], axis=1)\n",
    "df.head()"
   ]
  },
  {
   "cell_type": "code",
   "execution_count": 3,
   "metadata": {},
   "outputs": [
    {
     "data": {
      "text/plain": [
       "(399, 5)"
      ]
     },
     "execution_count": 3,
     "metadata": {},
     "output_type": "execute_result"
    }
   ],
   "source": [
    "#get the shape of the dataframe\n",
    "df.shape"
   ]
  },
  {
   "cell_type": "code",
   "execution_count": 4,
   "metadata": {},
   "outputs": [
    {
     "name": "stdout",
     "output_type": "stream",
     "text": [
      "<class 'pandas.core.frame.DataFrame'>\n",
      "RangeIndex: 399 entries, 0 to 398\n",
      "Data columns (total 5 columns):\n",
      " #   Column            Non-Null Count  Dtype \n",
      "---  ------            --------------  ----- \n",
      " 0   Time EST          399 non-null    object\n",
      " 1   Counts Total EST  399 non-null    int64 \n",
      " 2   Counts EST        399 non-null    int64 \n",
      " 3   Counts EST.1      399 non-null    int64 \n",
      " 4   Num Articles EST  399 non-null    int64 \n",
      "dtypes: int64(4), object(1)\n",
      "memory usage: 15.7+ KB\n"
     ]
    }
   ],
   "source": [
    "#get the column info\n",
    "df.info()"
   ]
  },
  {
   "cell_type": "code",
   "execution_count": 5,
   "metadata": {},
   "outputs": [
    {
     "data": {
      "text/plain": [
       "Time EST            0\n",
       "Counts Total EST    0\n",
       "Counts EST          0\n",
       "Counts EST.1        0\n",
       "Num Articles EST    0\n",
       "dtype: int64"
      ]
     },
     "execution_count": 5,
     "metadata": {},
     "output_type": "execute_result"
    }
   ],
   "source": [
    "#check the null values\n",
    "df.isnull().sum()"
   ]
  },
  {
   "cell_type": "code",
   "execution_count": 6,
   "metadata": {},
   "outputs": [
    {
     "data": {
      "text/html": [
       "<div>\n",
       "<style scoped>\n",
       "    .dataframe tbody tr th:only-of-type {\n",
       "        vertical-align: middle;\n",
       "    }\n",
       "\n",
       "    .dataframe tbody tr th {\n",
       "        vertical-align: top;\n",
       "    }\n",
       "\n",
       "    .dataframe thead th {\n",
       "        text-align: right;\n",
       "    }\n",
       "</style>\n",
       "<table border=\"1\" class=\"dataframe\">\n",
       "  <thead>\n",
       "    <tr style=\"text-align: right;\">\n",
       "      <th></th>\n",
       "      <th>Time EST</th>\n",
       "      <th>Counts Total EST</th>\n",
       "      <th>Counts EST</th>\n",
       "      <th>Counts EST.1</th>\n",
       "      <th>Num Articles EST</th>\n",
       "    </tr>\n",
       "  </thead>\n",
       "  <tbody>\n",
       "    <tr>\n",
       "      <th>0</th>\n",
       "      <td>18:00-20:00</td>\n",
       "      <td>8</td>\n",
       "      <td>1</td>\n",
       "      <td>0</td>\n",
       "      <td>11</td>\n",
       "    </tr>\n",
       "    <tr>\n",
       "      <th>1</th>\n",
       "      <td>20:00-22:00</td>\n",
       "      <td>345</td>\n",
       "      <td>17</td>\n",
       "      <td>1</td>\n",
       "      <td>16</td>\n",
       "    </tr>\n",
       "    <tr>\n",
       "      <th>2</th>\n",
       "      <td>22:00-00:00</td>\n",
       "      <td>83</td>\n",
       "      <td>10</td>\n",
       "      <td>0</td>\n",
       "      <td>9</td>\n",
       "    </tr>\n",
       "    <tr>\n",
       "      <th>3</th>\n",
       "      <td>00:00-02:00</td>\n",
       "      <td>42</td>\n",
       "      <td>6</td>\n",
       "      <td>0</td>\n",
       "      <td>18</td>\n",
       "    </tr>\n",
       "    <tr>\n",
       "      <th>4</th>\n",
       "      <td>02:00-04:00</td>\n",
       "      <td>0</td>\n",
       "      <td>0</td>\n",
       "      <td>0</td>\n",
       "      <td>2</td>\n",
       "    </tr>\n",
       "  </tbody>\n",
       "</table>\n",
       "</div>"
      ],
      "text/plain": [
       "      Time EST  Counts Total EST  Counts EST  Counts EST.1  Num Articles EST\n",
       "0  18:00-20:00                 8           1             0                11\n",
       "1  20:00-22:00               345          17             1                16\n",
       "2  22:00-00:00                83          10             0                 9\n",
       "3  00:00-02:00                42           6             0                18\n",
       "4  02:00-04:00                 0           0             0                 2"
      ]
     },
     "execution_count": 6,
     "metadata": {},
     "output_type": "execute_result"
    }
   ],
   "source": [
    "#Leave only the hours from the Time EST column\n",
    "df['Time EST'] = df['Time EST'].apply(lambda x: x[12:])\n",
    "df.head()"
   ]
  },
  {
   "cell_type": "code",
   "execution_count": 7,
   "metadata": {},
   "outputs": [
    {
     "data": {
      "text/html": [
       "<div>\n",
       "<style scoped>\n",
       "    .dataframe tbody tr th:only-of-type {\n",
       "        vertical-align: middle;\n",
       "    }\n",
       "\n",
       "    .dataframe tbody tr th {\n",
       "        vertical-align: top;\n",
       "    }\n",
       "\n",
       "    .dataframe thead th {\n",
       "        text-align: right;\n",
       "    }\n",
       "</style>\n",
       "<table border=\"1\" class=\"dataframe\">\n",
       "  <thead>\n",
       "    <tr style=\"text-align: right;\">\n",
       "      <th></th>\n",
       "      <th>Counts Total EST</th>\n",
       "      <th>Counts EST</th>\n",
       "      <th>Counts EST.1</th>\n",
       "      <th>Num Articles EST</th>\n",
       "    </tr>\n",
       "    <tr>\n",
       "      <th>Time EST</th>\n",
       "      <th></th>\n",
       "      <th></th>\n",
       "      <th></th>\n",
       "      <th></th>\n",
       "    </tr>\n",
       "  </thead>\n",
       "  <tbody>\n",
       "    <tr>\n",
       "      <th>00:00-02:00</th>\n",
       "      <td>7762</td>\n",
       "      <td>186</td>\n",
       "      <td>24</td>\n",
       "      <td>373</td>\n",
       "    </tr>\n",
       "    <tr>\n",
       "      <th>02:00-04:00</th>\n",
       "      <td>3351</td>\n",
       "      <td>74</td>\n",
       "      <td>11</td>\n",
       "      <td>100</td>\n",
       "    </tr>\n",
       "    <tr>\n",
       "      <th>04:00-06:00</th>\n",
       "      <td>6208</td>\n",
       "      <td>162</td>\n",
       "      <td>27</td>\n",
       "      <td>236</td>\n",
       "    </tr>\n",
       "    <tr>\n",
       "      <th>06:00-08:00</th>\n",
       "      <td>6255</td>\n",
       "      <td>476</td>\n",
       "      <td>51</td>\n",
       "      <td>417</td>\n",
       "    </tr>\n",
       "    <tr>\n",
       "      <th>08:00-10:00</th>\n",
       "      <td>13116</td>\n",
       "      <td>652</td>\n",
       "      <td>61</td>\n",
       "      <td>646</td>\n",
       "    </tr>\n",
       "    <tr>\n",
       "      <th>10:00-12:00</th>\n",
       "      <td>25331</td>\n",
       "      <td>1078</td>\n",
       "      <td>125</td>\n",
       "      <td>934</td>\n",
       "    </tr>\n",
       "    <tr>\n",
       "      <th>12:00-14:00</th>\n",
       "      <td>22539</td>\n",
       "      <td>1237</td>\n",
       "      <td>124</td>\n",
       "      <td>1139</td>\n",
       "    </tr>\n",
       "    <tr>\n",
       "      <th>14:00-16:00</th>\n",
       "      <td>21933</td>\n",
       "      <td>1217</td>\n",
       "      <td>97</td>\n",
       "      <td>1181</td>\n",
       "    </tr>\n",
       "    <tr>\n",
       "      <th>16:00-18:00</th>\n",
       "      <td>17996</td>\n",
       "      <td>1049</td>\n",
       "      <td>89</td>\n",
       "      <td>1438</td>\n",
       "    </tr>\n",
       "    <tr>\n",
       "      <th>18:00-20:00</th>\n",
       "      <td>13988</td>\n",
       "      <td>630</td>\n",
       "      <td>69</td>\n",
       "      <td>1211</td>\n",
       "    </tr>\n",
       "    <tr>\n",
       "      <th>20:00-22:00</th>\n",
       "      <td>48246</td>\n",
       "      <td>1095</td>\n",
       "      <td>125</td>\n",
       "      <td>1481</td>\n",
       "    </tr>\n",
       "    <tr>\n",
       "      <th>22:00-00:00</th>\n",
       "      <td>20849</td>\n",
       "      <td>601</td>\n",
       "      <td>51</td>\n",
       "      <td>844</td>\n",
       "    </tr>\n",
       "  </tbody>\n",
       "</table>\n",
       "</div>"
      ],
      "text/plain": [
       "             Counts Total EST  Counts EST  Counts EST.1  Num Articles EST\n",
       "Time EST                                                                 \n",
       "00:00-02:00              7762         186            24               373\n",
       "02:00-04:00              3351          74            11               100\n",
       "04:00-06:00              6208         162            27               236\n",
       "06:00-08:00              6255         476            51               417\n",
       "08:00-10:00             13116         652            61               646\n",
       "10:00-12:00             25331        1078           125               934\n",
       "12:00-14:00             22539        1237           124              1139\n",
       "14:00-16:00             21933        1217            97              1181\n",
       "16:00-18:00             17996        1049            89              1438\n",
       "18:00-20:00             13988         630            69              1211\n",
       "20:00-22:00             48246        1095           125              1481\n",
       "22:00-00:00             20849         601            51               844"
      ]
     },
     "execution_count": 7,
     "metadata": {},
     "output_type": "execute_result"
    }
   ],
   "source": [
    "#group the df by Time EST column\n",
    "df_grouped = df.groupby('Time EST').sum()\n",
    "df_grouped"
   ]
  },
  {
   "cell_type": "code",
   "execution_count": 8,
   "metadata": {},
   "outputs": [
    {
     "name": "stdout",
     "output_type": "stream",
     "text": [
      "['00:00-02:00', '02:00-04:00', '04:00-06:00', '06:00-08:00', '08:00-10:00', '10:00-12:00', '12:00-14:00', '14:00-16:00', '16:00-18:00', '18:00-20:00', '20:00-22:00', '22:00-00:00'] \n",
      "\n",
      "[7762, 3351, 6208, 6255, 13116, 25331, 22539, 21933, 17996, 13988, 48246, 20849] \n",
      "\n",
      "[186, 74, 162, 476, 652, 1078, 1237, 1217, 1049, 630, 1095, 601] \n",
      "\n",
      "[24, 11, 27, 51, 61, 125, 124, 97, 89, 69, 125, 51] \n",
      "\n",
      "[373, 100, 236, 417, 646, 934, 1139, 1181, 1438, 1211, 1481, 844] \n",
      "\n"
     ]
    }
   ],
   "source": [
    "#x_axis\n",
    "time_period = [name for name,group in df.groupby(['Time EST'])]\n",
    "\n",
    "#y_features\n",
    "Counts_Total_EST = df_grouped['Counts Total EST'].tolist()\n",
    "Counts_EST = df_grouped['Counts EST'].tolist()\n",
    "Counts_EST_1 = df_grouped['Counts EST.1'].tolist()\n",
    "Num_Articles_EST = df_grouped['Num Articles EST'].tolist()\n",
    "\n",
    "print(time_period,'\\n')\n",
    "print(Counts_Total_EST,'\\n')\n",
    "print(Counts_EST,'\\n')\n",
    "print(Counts_EST_1,'\\n')\n",
    "print(Num_Articles_EST,'\\n')"
   ]
  },
  {
   "cell_type": "markdown",
   "metadata": {},
   "source": [
    "### Normal Bar Plot"
   ]
  },
  {
   "cell_type": "code",
   "execution_count": 9,
   "metadata": {},
   "outputs": [
    {
     "data": {
      "text/plain": [
       "'#Select the graph style using plt.style.use(). You can see the available styles by typing plt.style.available.\\n# In this case we will use \"fivethirtyeight\"\\n\\nplt.style.use(\\'fivethirtyeight\\')\\nfig, ax = plt.subplots(figsize=(14,6), facecolor=\\'y\\')\\nx_indexes = np.arange(len(time_period))\\nwidth = .15\\n\\nax.bar(x_indexes,Counts_Total_EST, width=width,align=\\'edge\\', label=\\'Counts Total\\')\\nax.bar(x_indexes+width,Counts_EST, color=\\'red\\', width=width, align=\\'edge\\', label=\\'Counts_EST\\')\\nax.bar(x_indexes-width, Counts_EST_1, color=\\'gray\\', width=width, align=\\'edge\\', label=\\'Counts ETS 1\\')\\nax.bar(x_indexes-(2*width),Num_Articles_EST, color=\\'orange\\', width=width, align=\\'edge\\', label=\\'Num Articles\\')\\n\\nax.set_title(\\'Bar Chart\\')\\nax.set_yscale(\\'log\\') # use logarithmic scale so that all the features become visible\\nax.set_xlabel(\\'Time Period\\')\\nax.set_ylabel(\\'Counts\\')\\n\\nplt.xticks(ticks=x_indexes, labels=time_period, rotation=45)\\nplt.tight_layout()\\nplt.legend()\\nplt.show()\\n'"
      ]
     },
     "execution_count": 9,
     "metadata": {},
     "output_type": "execute_result"
    }
   ],
   "source": [
    "'''#Select the graph style using plt.style.use(). You can see the available styles by typing plt.style.available.\n",
    "# In this case we will use \"fivethirtyeight\"\n",
    "\n",
    "plt.style.use('fivethirtyeight')\n",
    "fig, ax = plt.subplots(figsize=(14,6), facecolor='y')\n",
    "x_indexes = np.arange(len(time_period))\n",
    "width = .15\n",
    "\n",
    "ax.bar(x_indexes,Counts_Total_EST, width=width,align='edge', label='Counts Total')\n",
    "ax.bar(x_indexes+width,Counts_EST, color='red', width=width, align='edge', label='Counts_EST')\n",
    "ax.bar(x_indexes-width, Counts_EST_1, color='gray', width=width, align='edge', label='Counts ETS 1')\n",
    "ax.bar(x_indexes-(2*width),Num_Articles_EST, color='orange', width=width, align='edge', label='Num Articles')\n",
    "\n",
    "ax.set_title('Bar Chart')\n",
    "ax.set_yscale('log') # use logarithmic scale so that all the features become visible\n",
    "ax.set_xlabel('Time Period')\n",
    "ax.set_ylabel('Counts')\n",
    "\n",
    "plt.xticks(ticks=x_indexes, labels=time_period, rotation=45)\n",
    "plt.tight_layout()\n",
    "plt.legend()\n",
    "plt.show()\n",
    "'''"
   ]
  },
  {
   "cell_type": "markdown",
   "metadata": {},
   "source": [
    "### Normal Bar Plot. Please scroll down to final cell"
   ]
  },
  {
   "cell_type": "code",
   "execution_count": 10,
   "metadata": {},
   "outputs": [
    {
     "data": {
      "text/plain": [
       "'#Select the graph style using plt.style.use(). You can see the available styles by typing plt.style.available.\\n# In this case we will use \"fivethirtyeight\"\\n\\nplt.style.use(\\'fivethirtyeight\\')\\nfig, ax = plt.subplots(figsize=(14,6), facecolor=\\'y\\')\\nx_indexes = np.arange(len(time_period))\\nwidth = .15\\n\\nbar_Count_Total_EST = ax.bar(x_indexes,Counts_Total_EST, width=width,align=\\'edge\\', label=\\'Counts Total\\')\\nbar_Count_EST = ax.bar(x_indexes+width,Counts_EST, color=\\'red\\', width=width, align=\\'edge\\', label=\\'Counts_EST\\')\\nbar_Count_EST_1 = ax.bar(x_indexes-width, Counts_EST_1, color=\\'gray\\', width=width, align=\\'edge\\', label=\\'Counts ETS 1\\')\\nbar_Num_Articles = ax.bar(x_indexes-(2*width),Num_Articles_EST, color=\\'orange\\', width=width, align=\\'edge\\', label=\\'Num Articles\\')\\n\\n#Displaying the value\\nfor bar in bar_Count_Total_EST:\\n    yvalue = bar.get_height()\\n    plt.text(bar.get_x(), yvalue+.005, str(yvalue))\\n    \\nfor bar in bar_Count_EST:\\n    yvalue = bar.get_height()\\n    plt.text(bar.get_x(), yvalue+.005, str(yvalue))\\n    \\nfor bar in bar_Count_EST_1:\\n    yvalue = bar.get_height()\\n    plt.text(bar.get_x(), yvalue+.005, str(yvalue))\\n\\nfor bar in bar_Num_Articles:\\n    yvalue = bar.get_height()\\n    plt.text(bar.get_x(), yvalue+.005, str(yvalue))\\n\\nax.set_title(\\'Bar Chart\\')\\nax.set_yscale(\\'log\\') # use logarithmic scale so that all the features become visible\\nax.set_xlabel(\\'Time Period\\')\\nax.set_ylabel(\\'Counts\\')\\n\\nplt.xticks(ticks=x_indexes, labels=time_period, rotation=45)\\nplt.tight_layout()\\nplt.legend()\\nplt.show()'"
      ]
     },
     "execution_count": 10,
     "metadata": {},
     "output_type": "execute_result"
    }
   ],
   "source": [
    "'''#Select the graph style using plt.style.use(). You can see the available styles by typing plt.style.available.\n",
    "# In this case we will use \"fivethirtyeight\"\n",
    "\n",
    "plt.style.use('fivethirtyeight')\n",
    "fig, ax = plt.subplots(figsize=(14,6), facecolor='y')\n",
    "x_indexes = np.arange(len(time_period))\n",
    "width = .15\n",
    "\n",
    "bar_Count_Total_EST = ax.bar(x_indexes,Counts_Total_EST, width=width,align='edge', label='Counts Total')\n",
    "bar_Count_EST = ax.bar(x_indexes+width,Counts_EST, color='red', width=width, align='edge', label='Counts_EST')\n",
    "bar_Count_EST_1 = ax.bar(x_indexes-width, Counts_EST_1, color='gray', width=width, align='edge', label='Counts ETS 1')\n",
    "bar_Num_Articles = ax.bar(x_indexes-(2*width),Num_Articles_EST, color='orange', width=width, align='edge', label='Num Articles')\n",
    "\n",
    "#Displaying the value\n",
    "for bar in bar_Count_Total_EST:\n",
    "    yvalue = bar.get_height()\n",
    "    plt.text(bar.get_x(), yvalue+.005, str(yvalue))\n",
    "    \n",
    "for bar in bar_Count_EST:\n",
    "    yvalue = bar.get_height()\n",
    "    plt.text(bar.get_x(), yvalue+.005, str(yvalue))\n",
    "    \n",
    "for bar in bar_Count_EST_1:\n",
    "    yvalue = bar.get_height()\n",
    "    plt.text(bar.get_x(), yvalue+.005, str(yvalue))\n",
    "\n",
    "for bar in bar_Num_Articles:\n",
    "    yvalue = bar.get_height()\n",
    "    plt.text(bar.get_x(), yvalue+.005, str(yvalue))\n",
    "\n",
    "ax.set_title('Bar Chart')\n",
    "ax.set_yscale('log') # use logarithmic scale so that all the features become visible\n",
    "ax.set_xlabel('Time Period')\n",
    "ax.set_ylabel('Counts')\n",
    "\n",
    "plt.xticks(ticks=x_indexes, labels=time_period, rotation=45)\n",
    "plt.tight_layout()\n",
    "plt.legend()\n",
    "plt.show()'''"
   ]
  },
  {
   "cell_type": "markdown",
   "metadata": {},
   "source": [
    "### The Final Bar Plot"
   ]
  },
  {
   "cell_type": "code",
   "execution_count": 11,
   "metadata": {},
   "outputs": [
    {
     "data": {
      "image/png": "[encoded data removed]",
      "text/plain": [
       "<Figure size 1008x432 with 1 Axes>"
      ]
     },
     "metadata": {},
     "output_type": "display_data"
    }
   ],
   "source": [
    "#Select the graph style using plt.style.use(). You can see the available styles by typing plt.style.available.\n",
    "# In this case we will use \"fivethirtyeight\" style\n",
    "plt.style.use('fivethirtyeight')\n",
    "\n",
    "fig, ax = plt.subplots(figsize=(14,6), facecolor='y')\n",
    "x_indexes = np.arange(len(time_period))\n",
    "width = .15\n",
    "small_size= 10 #define the text size of the value above each bar\n",
    "\n",
    "#We have assigned each barplot to a varible to access the attribute of the bar plot\n",
    "bar_Count_Total_EST = ax.bar(x_indexes,Counts_Total_EST, width=width,align='edge', label='Counts Total')\n",
    "bar_Count_EST = ax.bar(x_indexes+width,Counts_EST, color='red', width=width, align='edge', label='Counts_EST')\n",
    "bar_Count_EST_1 = ax.bar(x_indexes-width, Counts_EST_1, color='gray', width=width, align='edge', label='Counts ETS 1')\n",
    "bar_Num_Articles = ax.bar(x_indexes-(2*width),Num_Articles_EST, color='orange', width=width, align='edge', label='Num Articles')\n",
    "\n",
    "#Displaying the value\n",
    "for bar1,bar2,bar3,bar4 in zip(bar_Count_Total_EST,bar_Count_EST,bar_Count_EST_1,bar_Num_Articles): #iterate over each bar variable\n",
    "    \n",
    "    yval1 = bar1.get_height() # value of the bar_Count_Total_EST\n",
    "    yval2 = bar2.get_height() # value of the bar_Count_EST\n",
    "    yval3 = bar3.get_height() # value of the bar_Count_EST_1\n",
    "    yval4 = bar4.get_height() # value of the bar_Num_Articles\n",
    "    \n",
    "    plt.text(bar1.get_x()-.15, yval1+.005, str(yval1)) # bar1.get_x() =  text position in x-axis, \n",
    "                                                       # yval1 = text position in x-axis\n",
    "                                                       # str(yval1) = is the value in str format\n",
    "                                                       # can customize the position using (+-)value after the 1st and 2nd argument\n",
    "    plt.text(bar2.get_x()-.07, yval2-.05, str(yval2)) \n",
    "    plt.text(bar3.get_x()-.02, yval3+.005, str(yval3))\n",
    "    plt.text(bar4.get_x()-.07, yval4+.05, str(yval4))\n",
    "    \n",
    "    plt.rc('font', size=small_size) #Customize the text size of the value above each bar\n",
    "\n",
    "ax.set_title('Bar Chart')\n",
    "ax.set_yscale('log') # use logarithmic scale so that all the features become visible\n",
    "ax.set_xlabel('Time Period')\n",
    "ax.set_ylabel('Counts')\n",
    "\n",
    "plt.xticks(ticks=x_indexes, labels=time_period, rotation=45) # Replace the x_indexes by actual time_peroid\n",
    "plt.tight_layout()\n",
    "plt.legend()\n",
    "plt.show()"
   ]
  },
  {
   "cell_type": "markdown",
   "metadata": {},
   "source": [
    "### For a single feature"
   ]
  },
  {
   "cell_type": "code",
   "execution_count": 71,
   "metadata": {},
   "outputs": [
    {
     "data": {
      "image/png": "[encoded data removed]",
      "text/plain": [
       "<Figure size 720x288 with 1 Axes>"
      ]
     },
     "metadata": {},
     "output_type": "display_data"
    }
   ],
   "source": [
    "#Select the graph style using plt.style.use(). You can see the available styles by typing plt.style.available.\n",
    "# In this case we will use \"fivethirtyeight\" style\n",
    "plt.style.use('fivethirtyeight')\n",
    "\n",
    "fig, ax = plt.subplots(figsize=(10,4), facecolor='y')\n",
    "\n",
    "bars = ax.barh(time_period, Counts_Total_EST, label='Counts Total', color='orange')\n",
    "\n",
    "for bar in bars:\n",
    "        width = bar.get_width()\n",
    "        plt.text(1.15*bar.get_width(), bar.get_y()+0.30, int(width), ha='center', va='center')\n",
    "\n",
    "ax.set_title('Bar Chart for Single Feature')\n",
    "ax.set_ylabel('Time Period')\n",
    "ax.set_xlabel('Counts')\n",
    "ax.set_xlim(0,60000)\n",
    "\n",
    "plt.tight_layout()\n",
    "plt.legend()\n",
    "plt.show()"
   ]
  },
  {
   "cell_type": "code",
   "execution_count": null,
   "metadata": {},
   "outputs": [],
   "source": []
  }
 ],
 "metadata": {
  "kernelspec": {
   "display_name": "Python 3",
   "language": "python",
   "name": "python3"
  },
  "language_info": {
   "codemirror_mode": {
    "name": "ipython",
    "version": 3
   },
   "file_extension": ".py",
   "mimetype": "text/x-python",
   "name": "python",
   "nbconvert_exporter": "python",
   "pygments_lexer": "ipython3",
   "version": "3.8.3"
  }
 },
 "nbformat": 4,
 "nbformat_minor": 4
}

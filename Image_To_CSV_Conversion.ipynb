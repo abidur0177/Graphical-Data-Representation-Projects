{
 "cells": [
  {
   "cell_type": "code",
   "execution_count": 4,
   "metadata": {},
   "outputs": [],
   "source": [
    "with open('eda3.jpg','rb') as file:\n",
    "    newfile = open('copyfile.jpg','wb')\n",
    "    for line in file:\n",
    "        newfile.write(line)"
   ]
  },
  {
   "cell_type": "markdown",
   "metadata": {},
   "source": [
    "### Import image using PIL and convert to numpy array"
   ]
  },
  {
   "cell_type": "code",
   "execution_count": 5,
   "metadata": {},
   "outputs": [],
   "source": [
    "from PIL import Image\n",
    "import numpy as np"
   ]
  },
  {
   "cell_type": "code",
   "execution_count": 8,
   "metadata": {},
   "outputs": [
    {
     "name": "stdout",
     "output_type": "stream",
     "text": [
      "(380, 560, 3)\n"
     ]
    }
   ],
   "source": [
    "#mport the image\n",
    "img = Image.open('image.jpg')\n",
    "\n",
    "#convert the image into array\n",
    "imgtoarr = np.asarray(img)\n",
    "\n",
    "#printing the shape of image\n",
    "print(imgtoarr.shape)"
   ]
  },
  {
   "cell_type": "markdown",
   "metadata": {},
   "source": [
    "###  Import using matplotlib library"
   ]
  },
  {
   "cell_type": "code",
   "execution_count": 10,
   "metadata": {},
   "outputs": [
    {
     "name": "stdout",
     "output_type": "stream",
     "text": [
      "(380, 560, 3)\n"
     ]
    }
   ],
   "source": [
    "# import the library\n",
    "from matplotlib.image import imread\n",
    "img = imread('image.jpg')\n",
    "\n",
    "print(img.shape)"
   ]
  },
  {
   "cell_type": "markdown",
   "metadata": {},
   "source": [
    "### we can convert the image into csv file using:\n",
    "\n",
    "1. Numpy\n",
    "    * numpy.savetxt()\n",
    "    * numpy.loadtxt()\n",
    "    \n",
    "2. Pandas"
   ]
  },
  {
   "cell_type": "markdown",
   "metadata": {},
   "source": [
    "###  Numpy"
   ]
  },
  {
   "cell_type": "code",
   "execution_count": 17,
   "metadata": {},
   "outputs": [
    {
     "name": "stdout",
     "output_type": "stream",
     "text": [
      "Reshaping to 2D image:  (380, 1680)\n",
      "Image shape of loaded Image: (380, 560, 3)\n",
      "Excellent work\n"
     ]
    }
   ],
   "source": [
    "import numpy as np\n",
    "from matplotlib.image import imread\n",
    "\n",
    "#import the image\n",
    "img = imread('image.jpg')\n",
    "\n",
    "# if image is colored (RGB)\n",
    "if img.shape[2]==3:\n",
    "    #convert to 2D image\n",
    "    img_2D = img.reshape(img.shape[0],-1)\n",
    "    print(\"Reshaping to 2D image: \", img_2D.shape)\n",
    "#if image is not 3D\n",
    "else:\n",
    "    img_2D = img\n",
    "    \n",
    "# saving matrice to .csv \n",
    "np.savetxt('image.csv', img_2D)\n",
    "\n",
    "# retrieving matrice from the .csv file \n",
    "img_2D_load = np.loadtxt('image.csv')\n",
    "\n",
    "#reshaping to 3D matrix\n",
    "loaded_mat = img_2D_load.reshape(img_2D_load.shape[0],img_2D_load.shape[1]//img.shape[2], img.shape[2])\n",
    "\n",
    "print(\"Image shape of loaded Image:\",  \n",
    "      loaded_mat.shape) \n",
    "\n",
    "if (img==loaded_mat).all():\n",
    "    print('Excellent work')"
   ]
  },
  {
   "cell_type": "markdown",
   "metadata": {},
   "source": [
    "###  Self Practice"
   ]
  },
  {
   "cell_type": "code",
   "execution_count": 18,
   "metadata": {},
   "outputs": [
    {
     "name": "stdout",
     "output_type": "stream",
     "text": [
      "(380, 560, 3)\n"
     ]
    }
   ],
   "source": [
    "from PIL import Image\n",
    "import numpy as np\n",
    "\n",
    "img = Image.open('image.jpg')\n",
    "\n",
    "imgtoarr = np.asarray(img)\n",
    "print(imgtoarr.shape)"
   ]
  },
  {
   "cell_type": "code",
   "execution_count": 19,
   "metadata": {},
   "outputs": [
    {
     "name": "stdout",
     "output_type": "stream",
     "text": [
      "(380, 560, 3)\n"
     ]
    }
   ],
   "source": [
    "from matplotlib.image import imread\n",
    "\n",
    "img = imread('image.jpg')\n",
    "print(img.shape)"
   ]
  },
  {
   "cell_type": "code",
   "execution_count": 21,
   "metadata": {},
   "outputs": [
    {
     "name": "stdout",
     "output_type": "stream",
     "text": [
      "(380, 560, 3)\n",
      "(380, 1680)\n",
      "(380, 560, 3)\n",
      "Work has been completed\n"
     ]
    }
   ],
   "source": [
    "#import the image\n",
    "img = imread('image.jpg')\n",
    "print(img.shape)\n",
    "\n",
    "#if the image is colored\n",
    "if img.shape[2]==3:\n",
    "    #make 2D\n",
    "    img2d = img.reshape(img.shape[0], -1)\n",
    "    print(img2d.shape)\n",
    "    \n",
    "#if the image is not 3D\n",
    "else:\n",
    "    img2d = img\n",
    "    \n",
    "#save the img2d into any csv file\n",
    "np.savetxt('image.csv', img2d)\n",
    "\n",
    "#load the 2D image\n",
    "load2d = np.loadtxt('image.csv')\n",
    "\n",
    "#return to 3D\n",
    "load3d = load2d.reshape(load2d.shape[0], load2d.shape[1]//img.shape[2], img.shape[2])\n",
    "print(load3d.shape)\n",
    "\n",
    "if (img==load3d).all():\n",
    "    print('Work has been completed')"
   ]
  },
  {
   "cell_type": "markdown",
   "metadata": {},
   "source": [
    "### Using Pandas"
   ]
  },
  {
   "cell_type": "code",
   "execution_count": 23,
   "metadata": {},
   "outputs": [],
   "source": [
    "from matplotlib.image import imread\n",
    "import numpy as np\n",
    "import pandas as pd"
   ]
  },
  {
   "cell_type": "code",
   "execution_count": 25,
   "metadata": {},
   "outputs": [
    {
     "name": "stdout",
     "output_type": "stream",
     "text": [
      "(380, 560, 3)\n",
      "(380, 1680)\n",
      "(380, 560, 3)\n",
      "Done\n"
     ]
    }
   ],
   "source": [
    "img = imread('image.jpg')\n",
    "print(img.shape)\n",
    "\n",
    "if img.shape[2]==3:\n",
    "    img2d = img.reshape(img.shape[0], -1)\n",
    "else:\n",
    "    img2d = img\n",
    "print(img2d.shape)\n",
    "    \n",
    "imgtodf = pd.DataFrame(img2d)\n",
    "imgtodf.to_csv('imagedf.csv', header=None, index=None)\n",
    "\n",
    "loadcsv = pd.read_csv('imagedf.csv', header=None, sep=\",\")\n",
    "load2d = loadcsv.values\n",
    "\n",
    "load3d = load2d.reshape(load2d.shape[0], load2d.shape[1]//img.shape[2], img.shape[2])\n",
    "print(load3d.shape)\n",
    "\n",
    "if (img==load3d).all():\n",
    "    print('Done')"
   ]
  },
  {
   "cell_type": "code",
   "execution_count": null,
   "metadata": {},
   "outputs": [],
   "source": []
  }
 ],
 "metadata": {
  "kernelspec": {
   "display_name": "Python 3",
   "language": "python",
   "name": "python3"
  },
  "language_info": {
   "codemirror_mode": {
    "name": "ipython",
    "version": 3
   },
   "file_extension": ".py",
   "mimetype": "text/x-python",
   "name": "python",
   "nbconvert_exporter": "python",
   "pygments_lexer": "ipython3",
   "version": "3.8.3"
  }
 },
 "nbformat": 4,
 "nbformat_minor": 4
}
